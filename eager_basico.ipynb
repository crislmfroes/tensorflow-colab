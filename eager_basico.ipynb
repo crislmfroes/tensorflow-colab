{
  "nbformat": 4,
  "nbformat_minor": 0,
  "metadata": {
    "colab": {
      "name": "eager-basico.ipynb",
      "version": "0.3.2",
      "provenance": [],
      "collapsed_sections": [],
      "include_colab_link": true
    },
    "kernelspec": {
      "name": "python3",
      "display_name": "Python 3"
    },
    "accelerator": "GPU"
  },
  "cells": [
    {
      "cell_type": "markdown",
      "metadata": {
        "id": "view-in-github",
        "colab_type": "text"
      },
      "source": [
        "<a href=\"https://colab.research.google.com/github/crislmfroes/tensorflow-colab/blob/master/eager_basico.ipynb\" target=\"_parent\"><img src=\"https://colab.research.google.com/assets/colab-badge.svg\" alt=\"Open In Colab\"/></a>"
      ]
    },
    {
      "metadata": {
        "id": "-X4k93XtQE1s",
        "colab_type": "code",
        "colab": {}
      },
      "cell_type": "code",
      "source": [
        "import tensorflow as tf\n",
        "import numpy as np\n",
        "import tempfile\n",
        "\n",
        "tf.enable_eager_execution()"
      ],
      "execution_count": 0,
      "outputs": []
    },
    {
      "metadata": {
        "id": "6lvaC-7pQUVs",
        "colab_type": "code",
        "outputId": "e19e3ff1-da11-4b35-d4dc-df1f1eea41f0",
        "colab": {
          "base_uri": "https://localhost:8080/",
          "height": 119
        }
      },
      "cell_type": "code",
      "source": [
        "print(tf.add(1, 2))\n",
        "print(tf.add([1, 2], [3, 4]))\n",
        "print(tf.square(5))\n",
        "print(tf.reduce_sum([1, 2, 3]))\n",
        "print(tf.encode_base64('Olá mundo!'))\n",
        "print(tf.square(2) + tf.square(3))"
      ],
      "execution_count": 0,
      "outputs": [
        {
          "output_type": "stream",
          "text": [
            "tf.Tensor(3, shape=(), dtype=int32)\n",
            "tf.Tensor([4 6], shape=(2,), dtype=int32)\n",
            "tf.Tensor(25, shape=(), dtype=int32)\n",
            "tf.Tensor(6, shape=(), dtype=int32)\n",
            "tf.Tensor(b'T2zDoSBtdW5kbyE', shape=(), dtype=string)\n",
            "tf.Tensor(13, shape=(), dtype=int32)\n"
          ],
          "name": "stdout"
        }
      ]
    },
    {
      "metadata": {
        "id": "DtQ3vwIkRJm9",
        "colab_type": "code",
        "outputId": "6496722d-adbd-48ba-dd78-17e7733d3cee",
        "colab": {
          "base_uri": "https://localhost:8080/",
          "height": 68
        }
      },
      "cell_type": "code",
      "source": [
        "x = tf.matmul([[4]], [[2, 3]])\n",
        "print(x)\n",
        "print(x.shape)\n",
        "print(x.dtype)"
      ],
      "execution_count": 0,
      "outputs": [
        {
          "output_type": "stream",
          "text": [
            "tf.Tensor([[ 8 12]], shape=(1, 2), dtype=int32)\n",
            "(1, 2)\n",
            "<dtype: 'int32'>\n"
          ],
          "name": "stdout"
        }
      ]
    },
    {
      "metadata": {
        "id": "N3lsrhfBRpaL",
        "colab_type": "code",
        "outputId": "e67b7e8a-5eca-425a-f217-68301069a2b0",
        "colab": {
          "base_uri": "https://localhost:8080/",
          "height": 238
        }
      },
      "cell_type": "code",
      "source": [
        "array = np.ones([3, 3])\n",
        "print('Operações Tensorflow convertem vetores NumPy para tensores automaticamente')\n",
        "tensor = tf.multiply(array, 42)\n",
        "print(tensor)\n",
        "print('E operações NumPy convertem tensores Tensorflow para vetores NumPy automaticamente')\n",
        "print(np.add(tensor, 1))\n",
        "print('O método .numpy() converte explicitamente um tensor para um vetor numpy')\n",
        "print(tensor.numpy())"
      ],
      "execution_count": 0,
      "outputs": [
        {
          "output_type": "stream",
          "text": [
            "Operações Tensorflow convertem vetores NumPy para tensores automaticamente\n",
            "tf.Tensor(\n",
            "[[42. 42. 42.]\n",
            " [42. 42. 42.]\n",
            " [42. 42. 42.]], shape=(3, 3), dtype=float64)\n",
            "E operações NumPy convertem tensores Tensorflow para vetores NumPy automaticamente\n",
            "[[43. 43. 43.]\n",
            " [43. 43. 43.]\n",
            " [43. 43. 43.]]\n",
            "O método .numpy() converte explicitamente um tensor para um vetor numpy\n",
            "[[42. 42. 42.]\n",
            " [42. 42. 42.]\n",
            " [42. 42. 42.]]\n"
          ],
          "name": "stdout"
        }
      ]
    },
    {
      "metadata": {
        "id": "pYkr7YFLSkD5",
        "colab_type": "code",
        "outputId": "894293ba-c1b1-4f46-e830-705288af9486",
        "colab": {
          "base_uri": "https://localhost:8080/",
          "height": 85
        }
      },
      "cell_type": "code",
      "source": [
        "x = tf.random_uniform([3, 3])\n",
        "print('GPU se encontra disponível: ')\n",
        "print(tf.test.is_gpu_available())\n",
        "print('O tensor se encontra na GPU #0: ')\n",
        "print(x.device.endswith('GPU:0'))"
      ],
      "execution_count": 0,
      "outputs": [
        {
          "output_type": "stream",
          "text": [
            "GPU se encontra disponível: \n",
            "True\n",
            "O tensor se encontra na GPU #0: \n",
            "True\n"
          ],
          "name": "stdout"
        }
      ]
    },
    {
      "metadata": {
        "id": "2NxDIWjLTdvo",
        "colab_type": "code",
        "colab": {}
      },
      "cell_type": "code",
      "source": [
        "def time_matmul(x):\n",
        "  %timeit tf.matmul(x, x)"
      ],
      "execution_count": 0,
      "outputs": []
    },
    {
      "metadata": {
        "id": "c_6rSF3zTpAo",
        "colab_type": "code",
        "outputId": "a6e95010-0d50-4ec3-8b93-79f86b67b0d1",
        "colab": {
          "base_uri": "https://localhost:8080/",
          "height": 102
        }
      },
      "cell_type": "code",
      "source": [
        "print('Na CPU:')\n",
        "with tf.device('CPU:0'):\n",
        "  x = tf.random_uniform([100, 100])\n",
        "  assert x.device.endswith('CPU:0')\n",
        "  time_matmul(x)\n",
        "if tf.test.is_gpu_available():\n",
        "  print('Na GPU:')\n",
        "  with tf.device('GPU:0'):\n",
        "    x = tf.random_uniform([100, 100])\n",
        "    assert x.device.endswith('GPU:0')\n",
        "    time_matmul(x)"
      ],
      "execution_count": 0,
      "outputs": [
        {
          "output_type": "stream",
          "text": [
            "Na CPU:\n",
            "10000 loops, best of 3: 66.5 µs per loop\n",
            "Na GPU:\n",
            "The slowest run took 3629.13 times longer than the fastest. This could mean that an intermediate result is being cached.\n",
            "1 loop, best of 3: 59.3 µs per loop\n"
          ],
          "name": "stdout"
        }
      ]
    },
    {
      "metadata": {
        "id": "p1FJN45mUsb7",
        "colab_type": "code",
        "colab": {}
      },
      "cell_type": "code",
      "source": [
        "ds_tensor = tf.data.Dataset.from_tensor_slices([1, 2, 3, 4, 5, 6])\n",
        "_, filename = tempfile.mkstemp()\n",
        "with open(filename, 'w') as f:\n",
        "  f.write(\"\"\"Linha 1\n",
        "Linha 2\n",
        "Linha 3\n",
        "  \"\"\")\n",
        "ds_file = tf.data.TextLineDataset(filename)"
      ],
      "execution_count": 0,
      "outputs": []
    },
    {
      "metadata": {
        "id": "4x4b4cD7WGo3",
        "colab_type": "code",
        "colab": {}
      },
      "cell_type": "code",
      "source": [
        "ds_tensor = ds_tensor.map(tf.square).shuffle(2).batch(2)\n",
        "ds_file = ds_file.batch(2)"
      ],
      "execution_count": 0,
      "outputs": []
    },
    {
      "metadata": {
        "id": "mLMI-6kMWfW8",
        "colab_type": "code",
        "outputId": "03cf939c-b66a-4e58-daf7-8580d1be53b1",
        "colab": {
          "base_uri": "https://localhost:8080/",
          "height": 153
        }
      },
      "cell_type": "code",
      "source": [
        "print('Elementos de ds_tensor:')\n",
        "for x in ds_tensor:\n",
        "  print(x)\n",
        "print('\\nElementos em ds_file:')\n",
        "for x in ds_file:\n",
        "  print(x)"
      ],
      "execution_count": 0,
      "outputs": [
        {
          "output_type": "stream",
          "text": [
            "Elementos de ds_tensor:\n",
            "tf.Tensor([1 9], shape=(2,), dtype=int32)\n",
            "tf.Tensor([16  4], shape=(2,), dtype=int32)\n",
            "tf.Tensor([36 25], shape=(2,), dtype=int32)\n",
            "\n",
            "Elementos em ds_file:\n",
            "tf.Tensor([b'Linha 1' b'Linha 2'], shape=(2,), dtype=string)\n",
            "tf.Tensor([b'Linha 3' b'  '], shape=(2,), dtype=string)\n"
          ],
          "name": "stdout"
        }
      ]
    },
    {
      "metadata": {
        "id": "d5mu0CzWXynX",
        "colab_type": "code",
        "colab": {}
      },
      "cell_type": "code",
      "source": [
        "#@title Apache 2.0 License\n",
        "#Copyright 2018 Alphabet, Inc\n",
        "#\n",
        "#Licensed under the Apache License, Version 2.0 (the \"License\");\n",
        "#you may not use this file except in compliance with the License.\n",
        "#You may obtain a copy of the License at\n",
        "#\n",
        "#    http://www.apache.org/licenses/LICENSE-2.0\n",
        "#\n",
        "#Unless required by applicable law or agreed to in writing, software\n",
        "#distributed under the License is distributed on an \"AS IS\" BASIS,\n",
        "#WITHOUT WARRANTIES OR CONDITIONS OF ANY KIND, either express or implied.\n",
        "#See the License for the specific language governing permissions and\n",
        "#limitations under the License."
      ],
      "execution_count": 0,
      "outputs": []
    }
  ]
}