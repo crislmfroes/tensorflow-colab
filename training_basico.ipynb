{
  "nbformat": 4,
  "nbformat_minor": 0,
  "metadata": {
    "colab": {
      "name": "training-basico.ipynb",
      "version": "0.3.2",
      "provenance": [],
      "collapsed_sections": [],
      "include_colab_link": true
    },
    "kernelspec": {
      "name": "python3",
      "display_name": "Python 3"
    },
    "accelerator": "GPU"
  },
  "cells": [
    {
      "cell_type": "markdown",
      "metadata": {
        "id": "view-in-github",
        "colab_type": "text"
      },
      "source": [
        "<a href=\"https://colab.research.google.com/github/crislmfroes/tensorflow-colab/blob/master/training_basico.ipynb\" target=\"_parent\"><img src=\"https://colab.research.google.com/assets/colab-badge.svg\" alt=\"Open In Colab\"/></a>"
      ]
    },
    {
      "metadata": {
        "id": "zzuBSWfYwQBi",
        "colab_type": "code",
        "colab": {}
      },
      "cell_type": "code",
      "source": [
        "import tensorflow as tf\n",
        "import matplotlib.pyplot as plt\n",
        "import numpy as np\n",
        "\n",
        "tf.enable_eager_execution()"
      ],
      "execution_count": 0,
      "outputs": []
    },
    {
      "metadata": {
        "id": "fi28FrWjwiZk",
        "colab_type": "code",
        "colab": {
          "base_uri": "https://localhost:8080/",
          "height": 204
        },
        "outputId": "dfebe259-79fb-4718-ee28-d746c08e3543"
      },
      "cell_type": "code",
      "source": [
        "x = tf.zeros([10, 10])\n",
        "x += 2\n",
        "print(x)"
      ],
      "execution_count": 2,
      "outputs": [
        {
          "output_type": "stream",
          "text": [
            "tf.Tensor(\n",
            "[[2. 2. 2. 2. 2. 2. 2. 2. 2. 2.]\n",
            " [2. 2. 2. 2. 2. 2. 2. 2. 2. 2.]\n",
            " [2. 2. 2. 2. 2. 2. 2. 2. 2. 2.]\n",
            " [2. 2. 2. 2. 2. 2. 2. 2. 2. 2.]\n",
            " [2. 2. 2. 2. 2. 2. 2. 2. 2. 2.]\n",
            " [2. 2. 2. 2. 2. 2. 2. 2. 2. 2.]\n",
            " [2. 2. 2. 2. 2. 2. 2. 2. 2. 2.]\n",
            " [2. 2. 2. 2. 2. 2. 2. 2. 2. 2.]\n",
            " [2. 2. 2. 2. 2. 2. 2. 2. 2. 2.]\n",
            " [2. 2. 2. 2. 2. 2. 2. 2. 2. 2.]], shape=(10, 10), dtype=float32)\n"
          ],
          "name": "stdout"
        }
      ]
    },
    {
      "metadata": {
        "id": "C1n7mUSkwsHT",
        "colab_type": "code",
        "colab": {}
      },
      "cell_type": "code",
      "source": [
        "v = tf.Variable(1.0)\n",
        "assert v.numpy() == 1.0\n",
        "\n",
        "v.assign(3.0)\n",
        "assert v.numpy() == 3.0\n",
        "\n",
        "v.assign(tf.square(v))\n",
        "assert v.numpy() == 9.0"
      ],
      "execution_count": 0,
      "outputs": []
    },
    {
      "metadata": {
        "id": "E6BeHW2zxDe4",
        "colab_type": "code",
        "colab": {}
      },
      "cell_type": "code",
      "source": [
        "class Model:\n",
        "  def __init__(self):\n",
        "    self.W = tf.Variable(5.0)\n",
        "    self.b = tf.Variable(0.0)\n",
        "  def __call__(self, x):\n",
        "    return self.W * x + self.b"
      ],
      "execution_count": 0,
      "outputs": []
    },
    {
      "metadata": {
        "id": "Qdhi22RQxX83",
        "colab_type": "code",
        "colab": {}
      },
      "cell_type": "code",
      "source": [
        "model = Model()\n",
        "assert model(3.0).numpy() == 15.0"
      ],
      "execution_count": 0,
      "outputs": []
    },
    {
      "metadata": {
        "id": "2QBgT8Gpxh7r",
        "colab_type": "code",
        "colab": {}
      },
      "cell_type": "code",
      "source": [
        "def loss(predicted_y, desired_y):\n",
        "  return tf.reduce_mean(tf.square(predicted_y - desired_y))"
      ],
      "execution_count": 0,
      "outputs": []
    },
    {
      "metadata": {
        "id": "II8kul73xzpy",
        "colab_type": "code",
        "colab": {}
      },
      "cell_type": "code",
      "source": [
        "TRUE_W = 3.0\n",
        "TRUE_b = 2.0\n",
        "NUM_EXAMPLES = 1000\n",
        "\n",
        "inputs = tf.random_normal(shape=[NUM_EXAMPLES])\n",
        "noise = tf.random_normal(shape=[NUM_EXAMPLES])\n",
        "outputs = inputs * TRUE_W + TRUE_b + noise"
      ],
      "execution_count": 0,
      "outputs": []
    },
    {
      "metadata": {
        "id": "Nj-HyxFEyaDQ",
        "colab_type": "code",
        "colab": {
          "base_uri": "https://localhost:8080/",
          "height": 381
        },
        "outputId": "1fd5f723-3265-46e7-bc5c-4223980e71db"
      },
      "cell_type": "code",
      "source": [
        "plt.scatter(inputs, outputs, c='b')\n",
        "plt.scatter(inputs, model(inputs), c='r')\n",
        "plt.show()\n",
        "\n",
        "print('Perda atual: ')\n",
        "print(loss(model(inputs), outputs).numpy())"
      ],
      "execution_count": 10,
      "outputs": [
        {
          "output_type": "display_data",
          "data": {
            "image/png": "[encoded data removed]",
            "text/plain": [
              "<matplotlib.figure.Figure at 0x7ff7303216a0>"
            ]
          },
          "metadata": {
            "tags": []
          }
        },
        {
          "output_type": "stream",
          "text": [
            "Perda atual: \n",
            "9.095414\n"
          ],
          "name": "stdout"
        }
      ]
    },
    {
      "metadata": {
        "id": "64Yf5BbuzDYp",
        "colab_type": "code",
        "colab": {}
      },
      "cell_type": "code",
      "source": [
        "def train(model, inputs, outputs, learning_rate):\n",
        "  with tf.GradientTape() as t:\n",
        "    current_loss = loss(model(inputs), outputs)\n",
        "  dW, db = t.gradient(current_loss, [model.W, model.b])\n",
        "  model.W.assign_sub(learning_rate * dW)\n",
        "  model.b.assign_sub(learning_rate * db)"
      ],
      "execution_count": 0,
      "outputs": []
    },
    {
      "metadata": {
        "id": "Ze01TqRCzoMH",
        "colab_type": "code",
        "colab": {
          "base_uri": "https://localhost:8080/",
          "height": 517
        },
        "outputId": "94a34609-4d2d-4019-d760-f53234ea190d"
      },
      "cell_type": "code",
      "source": [
        "Ws, bs = [], []\n",
        "epochs = range(10)\n",
        "for epoch in epochs:\n",
        "  Ws.append(model.W.numpy())\n",
        "  bs.append(model.b.numpy())\n",
        "  current_loss = loss(model(inputs), outputs)\n",
        "  train(model, inputs, outputs, learning_rate=0.1)\n",
        "  print('Época {:2d}: W={:1.2f} b={:1.2f} loss={:2.5f}'.format(epoch, Ws[-1], bs[-1], current_loss))\n",
        "plt.plot(epochs, Ws, 'r', epochs, bs, 'b')\n",
        "plt.plot([TRUE_W] * len(epochs), 'r--', [TRUE_b] * len(epochs), 'b--')\n",
        "plt.legend(['W', 'b', 'true_W', 'true_b'])\n",
        "plt.show()"
      ],
      "execution_count": 12,
      "outputs": [
        {
          "output_type": "stream",
          "text": [
            "Época  0: W=5.00 b=0.00 loss=9.09541\n",
            "Época  1: W=4.61 b=0.42 loss=6.16937\n",
            "Época  2: W=4.30 b=0.75 loss=4.30002\n",
            "Época  3: W=4.05 b=1.01 loss=3.10551\n",
            "Época  4: W=3.85 b=1.22 loss=2.34207\n",
            "Época  5: W=3.68 b=1.39 loss=1.85403\n",
            "Época  6: W=3.55 b=1.52 loss=1.54197\n",
            "Época  7: W=3.44 b=1.63 loss=1.34240\n",
            "Época  8: W=3.36 b=1.71 loss=1.21473\n",
            "Época  9: W=3.29 b=1.77 loss=1.13305\n"
          ],
          "name": "stdout"
        },
        {
          "output_type": "display_data",
          "data": {
            "image/png": "[encoded data removed]",
            "text/plain": [
              "<matplotlib.figure.Figure at 0x7ff730245cf8>"
            ]
          },
          "metadata": {
            "tags": []
          }
        }
      ]
    },
    {
      "metadata": {
        "id": "wWYNWUJW1cue",
        "colab_type": "code",
        "colab": {}
      },
      "cell_type": "code",
      "source": [
        "#@title Apache 2.0 License\n",
        "#Copyright 2018 Alphabet, Inc\n",
        "#\n",
        "#Licensed under the Apache License, Version 2.0 (the \"License\");\n",
        "#you may not use this file except in compliance with the License.\n",
        "#You may obtain a copy of the License at\n",
        "#\n",
        "#    http://www.apache.org/licenses/LICENSE-2.0\n",
        "#\n",
        "#Unless required by applicable law or agreed to in writing, software\n",
        "#distributed under the License is distributed on an \"AS IS\" BASIS,\n",
        "#WITHOUT WARRANTIES OR CONDITIONS OF ANY KIND, either express or implied.\n",
        "#See the License for the specific language governing permissions and\n",
        "#limitations under the License."
      ],
      "execution_count": 0,
      "outputs": []
    }
  ]
}