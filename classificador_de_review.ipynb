{
  "nbformat": 4,
  "nbformat_minor": 0,
  "metadata": {
    "colab": {
      "name": "classificador-de-review.ipynb",
      "version": "0.3.2",
      "provenance": [],
      "collapsed_sections": [],
      "include_colab_link": true
    },
    "kernelspec": {
      "name": "python3",
      "display_name": "Python 3"
    },
    "accelerator": "GPU"
  },
  "cells": [
    {
      "cell_type": "markdown",
      "metadata": {
        "id": "view-in-github",
        "colab_type": "text"
      },
      "source": [
        "<a href=\"https://colab.research.google.com/github/crislmfroes/tensorflow-colab/blob/master/classificador_de_review.ipynb\" target=\"_parent\"><img src=\"https://colab.research.google.com/assets/colab-badge.svg\" alt=\"Open In Colab\"/></a>"
      ]
    },
    {
      "metadata": {
        "id": "z6PA9VbBR_si",
        "colab_type": "code",
        "colab": {}
      },
      "cell_type": "code",
      "source": [
        "import tensorflow as tf\n",
        "from tensorflow import keras\n",
        "import numpy as np\n",
        "import matplotlib.pyplot as plt"
      ],
      "execution_count": 0,
      "outputs": []
    },
    {
      "metadata": {
        "id": "YP86s9tnWI3t",
        "colab_type": "code",
        "colab": {
          "base_uri": "https://localhost:8080/",
          "height": 51
        },
        "outputId": "d8120799-4a1d-4af3-a09b-aa376171d3cf"
      },
      "cell_type": "code",
      "source": [
        "imdb = keras.datasets.imdb\n",
        "(dados_treinamento, categorias_treinamento), (dados_teste, categorias_teste) = imdb.load_data()"
      ],
      "execution_count": 2,
      "outputs": [
        {
          "output_type": "stream",
          "text": [
            "Downloading data from https://storage.googleapis.com/tensorflow/tf-keras-datasets/imdb.npz\n",
            "17465344/17464789 [==============================] - 0s 0us/step\n"
          ],
          "name": "stdout"
        }
      ]
    },
    {
      "metadata": {
        "id": "fnsV1LdbWaE6",
        "colab_type": "code",
        "colab": {
          "base_uri": "https://localhost:8080/",
          "height": 34
        },
        "outputId": "86db8967-1808-432b-efee-dc2f0650fdcd"
      },
      "cell_type": "code",
      "source": [
        "print(dados_treinamento.shape)"
      ],
      "execution_count": 3,
      "outputs": [
        {
          "output_type": "stream",
          "text": [
            "(25000,)\n"
          ],
          "name": "stdout"
        }
      ]
    },
    {
      "metadata": {
        "id": "edxyumi2WqUK",
        "colab_type": "code",
        "colab": {
          "base_uri": "https://localhost:8080/",
          "height": 54
        },
        "outputId": "fbc3fff2-2b4c-4ff9-e1d2-88a99bdef4ea"
      },
      "cell_type": "code",
      "source": [
        "print(dados_treinamento[0])"
      ],
      "execution_count": 4,
      "outputs": [
        {
          "output_type": "stream",
          "text": [
            "[1, 14, 22, 16, 43, 530, 973, 1622, 1385, 65, 458, 4468, 66, 3941, 4, 173, 36, 256, 5, 25, 100, 43, 838, 112, 50, 670, 22665, 9, 35, 480, 284, 5, 150, 4, 172, 112, 167, 21631, 336, 385, 39, 4, 172, 4536, 1111, 17, 546, 38, 13, 447, 4, 192, 50, 16, 6, 147, 2025, 19, 14, 22, 4, 1920, 4613, 469, 4, 22, 71, 87, 12, 16, 43, 530, 38, 76, 15, 13, 1247, 4, 22, 17, 515, 17, 12, 16, 626, 18, 19193, 5, 62, 386, 12, 8, 316, 8, 106, 5, 4, 2223, 5244, 16, 480, 66, 3785, 33, 4, 130, 12, 16, 38, 619, 5, 25, 124, 51, 36, 135, 48, 25, 1415, 33, 6, 22, 12, 215, 28, 77, 52, 5, 14, 407, 16, 82, 10311, 8, 4, 107, 117, 5952, 15, 256, 4, 31050, 7, 3766, 5, 723, 36, 71, 43, 530, 476, 26, 400, 317, 46, 7, 4, 12118, 1029, 13, 104, 88, 4, 381, 15, 297, 98, 32, 2071, 56, 26, 141, 6, 194, 7486, 18, 4, 226, 22, 21, 134, 476, 26, 480, 5, 144, 30, 5535, 18, 51, 36, 28, 224, 92, 25, 104, 4, 226, 65, 16, 38, 1334, 88, 12, 16, 283, 5, 16, 4472, 113, 103, 32, 15, 16, 5345, 19, 178, 32]\n"
          ],
          "name": "stdout"
        }
      ]
    },
    {
      "metadata": {
        "id": "nB6c9dMgWyIT",
        "colab_type": "code",
        "colab": {
          "base_uri": "https://localhost:8080/",
          "height": 34
        },
        "outputId": "1365ba78-4f1d-4010-9e3c-9c312fb15265"
      },
      "cell_type": "code",
      "source": [
        "print(len(categorias_treinamento))"
      ],
      "execution_count": 5,
      "outputs": [
        {
          "output_type": "stream",
          "text": [
            "25000\n"
          ],
          "name": "stdout"
        }
      ]
    },
    {
      "metadata": {
        "id": "uMNtr7avW4Z6",
        "colab_type": "code",
        "colab": {}
      },
      "cell_type": "code",
      "source": [
        "indice_palavras = imdb.get_word_index()\n",
        "indice_palavras = {k: (v+3) for k, v in indice_palavras.items()}\n",
        "indice_palavras['<PAD>'] = 0\n",
        "indice_palavras['<START>'] = 1\n",
        "indice_palavras['<UNK>'] = 2\n",
        "indice_palavras['<UNUSED>'] = 3\n",
        "\n",
        "indice_palavras_reverso = dict([(valor, chave) for chave, valor in indice_palavras.items()])\n",
        "\n",
        "def decodifica_review(texto):\n",
        "  return ' '.join([indice_palavras_reverso.get(i, '?') for i in texto])"
      ],
      "execution_count": 0,
      "outputs": []
    },
    {
      "metadata": {
        "id": "8PmIrC7TYacB",
        "colab_type": "code",
        "colab": {
          "base_uri": "https://localhost:8080/",
          "height": 54
        },
        "outputId": "c20a55c2-39fd-4428-8090-1a552259a81d"
      },
      "cell_type": "code",
      "source": [
        "decodifica_review(dados_treinamento[100])"
      ],
      "execution_count": 14,
      "outputs": [
        {
          "output_type": "execute_result",
          "data": {
            "text/plain": [
              "\"<START> i am a great fan of david lynch and have everything that he's made on dvd except for hotel room the 2 hour twin peaks movie so when i found out about this i immediately grabbed it and and what is this it's a bunch of crudely drawn black and white cartoons that are loud and foul mouthed and unfunny maybe i don't know what's good but maybe this is just a bunch of crap that was foisted on the public under the name of david lynch to make a few bucks too let me make it clear that i didn't care about the foul language part but had to keep adjusting the sound because my neighbors might have all in all this is a highly disappointing release and may well have just been left in the deluxe box set as a curiosity i highly recommend you don't spend your money on this 2 out of 10\""
            ]
          },
          "metadata": {
            "tags": []
          },
          "execution_count": 14
        }
      ]
    },
    {
      "metadata": {
        "id": "jTg0NrKhZeQw",
        "colab_type": "code",
        "colab": {}
      },
      "cell_type": "code",
      "source": [
        "dados_teste = keras.preprocessing.sequence.pad_sequences(dados_teste, value=indice_palavras['<PAD>'], padding='post', maxlen=256)\n",
        "dados_treinamento = keras.preprocessing.sequence.pad_sequences(dados_treinamento, value=indice_palavras['<PAD>'], padding='post', maxlen=256)"
      ],
      "execution_count": 0,
      "outputs": []
    },
    {
      "metadata": {
        "id": "DGrLs5nOZ9oW",
        "colab_type": "code",
        "colab": {
          "base_uri": "https://localhost:8080/",
          "height": 34
        },
        "outputId": "6b13f417-2ed5-4390-feb2-a8ef2f3d1fd1"
      },
      "cell_type": "code",
      "source": [
        "len(dados_treinamento[0]), len(dados_treinamento[1])"
      ],
      "execution_count": 16,
      "outputs": [
        {
          "output_type": "execute_result",
          "data": {
            "text/plain": [
              "(256, 256)"
            ]
          },
          "metadata": {
            "tags": []
          },
          "execution_count": 16
        }
      ]
    },
    {
      "metadata": {
        "id": "LFF1lCi4aHJt",
        "colab_type": "code",
        "colab": {
          "base_uri": "https://localhost:8080/",
          "height": 34
        },
        "outputId": "687d8056-2770-494f-e70d-c25137b30b00"
      },
      "cell_type": "code",
      "source": [
        "dados_treinamento.shape, dados_teste.shape"
      ],
      "execution_count": 17,
      "outputs": [
        {
          "output_type": "execute_result",
          "data": {
            "text/plain": [
              "((25000, 256), (25000, 256))"
            ]
          },
          "metadata": {
            "tags": []
          },
          "execution_count": 17
        }
      ]
    },
    {
      "metadata": {
        "id": "i0Gqljy_aVUd",
        "colab_type": "code",
        "colab": {
          "base_uri": "https://localhost:8080/",
          "height": 272
        },
        "outputId": "06be1c11-f5cb-4498-cbaa-9965b93e7ae5"
      },
      "cell_type": "code",
      "source": [
        "tamanho_vocab = 10000\n",
        "modelo = keras.Sequential([\n",
        "    keras.layers.Embedding(tamanho_vocab, 16),\n",
        "    keras.layers.GlobalAveragePooling1D(),\n",
        "    keras.layers.Dense(16, activation=tf.nn.relu),\n",
        "    keras.layers.Dense(1, activation=tf.nn.sigmoid)\n",
        "])\n",
        "\n",
        "modelo.summary()"
      ],
      "execution_count": 18,
      "outputs": [
        {
          "output_type": "stream",
          "text": [
            "_________________________________________________________________\n",
            "Layer (type)                 Output Shape              Param #   \n",
            "=================================================================\n",
            "embedding (Embedding)        (None, None, 16)          160000    \n",
            "_________________________________________________________________\n",
            "global_average_pooling1d (Gl (None, 16)                0         \n",
            "_________________________________________________________________\n",
            "dense (Dense)                (None, 16)                272       \n",
            "_________________________________________________________________\n",
            "dense_1 (Dense)              (None, 1)                 17        \n",
            "=================================================================\n",
            "Total params: 160,289\n",
            "Trainable params: 160,289\n",
            "Non-trainable params: 0\n",
            "_________________________________________________________________\n"
          ],
          "name": "stdout"
        }
      ]
    },
    {
      "metadata": {
        "id": "nwaIZ2tmbaCn",
        "colab_type": "code",
        "colab": {}
      },
      "cell_type": "code",
      "source": [
        "modelo.compile(optimizer=tf.train.AdamOptimizer(), loss='binary_crossentropy', metrics=['accuracy'])"
      ],
      "execution_count": 0,
      "outputs": []
    },
    {
      "metadata": {
        "id": "KzWIXNmObrfO",
        "colab_type": "code",
        "colab": {}
      },
      "cell_type": "code",
      "source": [
        "dados_validacao = dados_treinamento[:10000]\n",
        "dados_treinamento_parcial = dados_treinamento[10000:]\n",
        "\n",
        "categorias_validacao = categorias_treinamento[:10000]\n",
        "categorias_treinamento_parcial = categorias_treinamento[10000:]"
      ],
      "execution_count": 0,
      "outputs": []
    },
    {
      "metadata": {
        "id": "vYAj-Tu1cV_P",
        "colab_type": "code",
        "colab": {
          "base_uri": "https://localhost:8080/",
          "height": 1394
        },
        "outputId": "8b87defc-1046-4c49-bf78-8a72fb87fbb1"
      },
      "cell_type": "code",
      "source": [
        "historia = modelo.fit(dados_treinamento_parcial, categorias_treinamento_parcial, epochs=40, batch_size=512, validation_data=(dados_validacao, categorias_validacao), verbose=1)"
      ],
      "execution_count": 22,
      "outputs": [
        {
          "output_type": "stream",
          "text": [
            "Train on 15000 samples, validate on 10000 samples\n",
            "Epoch 1/40\n",
            "15000/15000 [==============================] - 1s 82us/step - loss: 0.6918 - acc: 0.5435 - val_loss: 0.6900 - val_acc: 0.5863\n",
            "Epoch 2/40\n",
            "15000/15000 [==============================] - 0s 31us/step - loss: 0.6864 - acc: 0.6878 - val_loss: 0.6826 - val_acc: 0.7527\n",
            "Epoch 3/40\n",
            "15000/15000 [==============================] - 0s 32us/step - loss: 0.6750 - acc: 0.7718 - val_loss: 0.6684 - val_acc: 0.7619\n",
            "Epoch 4/40\n",
            "15000/15000 [==============================] - 0s 31us/step - loss: 0.6546 - acc: 0.7759 - val_loss: 0.6454 - val_acc: 0.7665\n",
            "Epoch 5/40\n",
            "15000/15000 [==============================] - 0s 32us/step - loss: 0.6242 - acc: 0.7992 - val_loss: 0.6127 - val_acc: 0.7886\n",
            "Epoch 6/40\n",
            "15000/15000 [==============================] - 0s 31us/step - loss: 0.5853 - acc: 0.8115 - val_loss: 0.5748 - val_acc: 0.8010\n",
            "Epoch 7/40\n",
            "15000/15000 [==============================] - 0s 32us/step - loss: 0.5415 - acc: 0.8260 - val_loss: 0.5348 - val_acc: 0.8137\n",
            "Epoch 8/40\n",
            "15000/15000 [==============================] - 0s 31us/step - loss: 0.4970 - acc: 0.8399 - val_loss: 0.4958 - val_acc: 0.8252\n",
            "Epoch 9/40\n",
            "15000/15000 [==============================] - 0s 31us/step - loss: 0.4555 - acc: 0.8516 - val_loss: 0.4605 - val_acc: 0.8362\n",
            "Epoch 10/40\n",
            "15000/15000 [==============================] - 0s 31us/step - loss: 0.4174 - acc: 0.8653 - val_loss: 0.4292 - val_acc: 0.8433\n",
            "Epoch 11/40\n",
            "15000/15000 [==============================] - 0s 30us/step - loss: 0.3837 - acc: 0.8745 - val_loss: 0.4042 - val_acc: 0.8501\n",
            "Epoch 12/40\n",
            "15000/15000 [==============================] - 0s 32us/step - loss: 0.3545 - acc: 0.8821 - val_loss: 0.3800 - val_acc: 0.8583\n",
            "Epoch 13/40\n",
            "15000/15000 [==============================] - 0s 31us/step - loss: 0.3286 - acc: 0.8893 - val_loss: 0.3624 - val_acc: 0.8622\n",
            "Epoch 14/40\n",
            "15000/15000 [==============================] - 0s 32us/step - loss: 0.3071 - acc: 0.8963 - val_loss: 0.3470 - val_acc: 0.8678\n",
            "Epoch 15/40\n",
            "15000/15000 [==============================] - 0s 31us/step - loss: 0.2885 - acc: 0.9000 - val_loss: 0.3349 - val_acc: 0.8705\n",
            "Epoch 16/40\n",
            "15000/15000 [==============================] - 0s 32us/step - loss: 0.2726 - acc: 0.9041 - val_loss: 0.3250 - val_acc: 0.8732\n",
            "Epoch 17/40\n",
            "15000/15000 [==============================] - 0s 31us/step - loss: 0.2576 - acc: 0.9118 - val_loss: 0.3167 - val_acc: 0.8756\n",
            "Epoch 18/40\n",
            "15000/15000 [==============================] - 0s 32us/step - loss: 0.2446 - acc: 0.9163 - val_loss: 0.3100 - val_acc: 0.8782\n",
            "Epoch 19/40\n",
            "15000/15000 [==============================] - 0s 30us/step - loss: 0.2326 - acc: 0.9210 - val_loss: 0.3043 - val_acc: 0.8779\n",
            "Epoch 20/40\n",
            "15000/15000 [==============================] - 0s 30us/step - loss: 0.2222 - acc: 0.9234 - val_loss: 0.2999 - val_acc: 0.8802\n",
            "Epoch 21/40\n",
            "15000/15000 [==============================] - 0s 31us/step - loss: 0.2120 - acc: 0.9277 - val_loss: 0.2959 - val_acc: 0.8824\n",
            "Epoch 22/40\n",
            "15000/15000 [==============================] - 0s 30us/step - loss: 0.2027 - acc: 0.9305 - val_loss: 0.2932 - val_acc: 0.8824\n",
            "Epoch 23/40\n",
            "15000/15000 [==============================] - 0s 31us/step - loss: 0.1942 - acc: 0.9339 - val_loss: 0.2910 - val_acc: 0.8829\n",
            "Epoch 24/40\n",
            "15000/15000 [==============================] - 0s 30us/step - loss: 0.1858 - acc: 0.9386 - val_loss: 0.2884 - val_acc: 0.8843\n",
            "Epoch 25/40\n",
            "15000/15000 [==============================] - 0s 31us/step - loss: 0.1784 - acc: 0.9422 - val_loss: 0.2869 - val_acc: 0.8852\n",
            "Epoch 26/40\n",
            "15000/15000 [==============================] - 0s 30us/step - loss: 0.1710 - acc: 0.9443 - val_loss: 0.2862 - val_acc: 0.8856\n",
            "Epoch 27/40\n",
            "15000/15000 [==============================] - 0s 30us/step - loss: 0.1648 - acc: 0.9482 - val_loss: 0.2859 - val_acc: 0.8848\n",
            "Epoch 28/40\n",
            "15000/15000 [==============================] - 0s 31us/step - loss: 0.1582 - acc: 0.9502 - val_loss: 0.2851 - val_acc: 0.8867\n",
            "Epoch 29/40\n",
            "15000/15000 [==============================] - 0s 30us/step - loss: 0.1522 - acc: 0.9520 - val_loss: 0.2851 - val_acc: 0.8858\n",
            "Epoch 30/40\n",
            "15000/15000 [==============================] - 0s 33us/step - loss: 0.1469 - acc: 0.9545 - val_loss: 0.2858 - val_acc: 0.8866\n",
            "Epoch 31/40\n",
            "15000/15000 [==============================] - 0s 32us/step - loss: 0.1408 - acc: 0.9573 - val_loss: 0.2866 - val_acc: 0.8866\n",
            "Epoch 32/40\n",
            "15000/15000 [==============================] - 0s 32us/step - loss: 0.1359 - acc: 0.9597 - val_loss: 0.2878 - val_acc: 0.8872\n",
            "Epoch 33/40\n",
            "15000/15000 [==============================] - 0s 31us/step - loss: 0.1303 - acc: 0.9619 - val_loss: 0.2891 - val_acc: 0.8872\n",
            "Epoch 34/40\n",
            "15000/15000 [==============================] - 0s 32us/step - loss: 0.1257 - acc: 0.9637 - val_loss: 0.2905 - val_acc: 0.8870\n",
            "Epoch 35/40\n",
            "15000/15000 [==============================] - 0s 31us/step - loss: 0.1214 - acc: 0.9645 - val_loss: 0.2921 - val_acc: 0.8866\n",
            "Epoch 36/40\n",
            "15000/15000 [==============================] - 0s 32us/step - loss: 0.1164 - acc: 0.9672 - val_loss: 0.2944 - val_acc: 0.8853\n",
            "Epoch 37/40\n",
            "15000/15000 [==============================] - 0s 30us/step - loss: 0.1124 - acc: 0.9683 - val_loss: 0.2968 - val_acc: 0.8853\n",
            "Epoch 38/40\n",
            "15000/15000 [==============================] - 0s 30us/step - loss: 0.1088 - acc: 0.9691 - val_loss: 0.2985 - val_acc: 0.8856\n",
            "Epoch 39/40\n",
            "15000/15000 [==============================] - 0s 31us/step - loss: 0.1043 - acc: 0.9710 - val_loss: 0.3010 - val_acc: 0.8853\n",
            "Epoch 40/40\n",
            "15000/15000 [==============================] - 0s 30us/step - loss: 0.1004 - acc: 0.9723 - val_loss: 0.3036 - val_acc: 0.8856\n"
          ],
          "name": "stdout"
        }
      ]
    },
    {
      "metadata": {
        "id": "vvhJaBgYc05c",
        "colab_type": "code",
        "colab": {
          "base_uri": "https://localhost:8080/",
          "height": 34
        },
        "outputId": "8be25a55-999e-41f8-c6d8-d3e89e3bd943"
      },
      "cell_type": "code",
      "source": [
        "resultados = modelo.evaluate(dados_teste, categorias_teste)"
      ],
      "execution_count": 23,
      "outputs": [
        {
          "output_type": "stream",
          "text": [
            "25000/25000 [==============================] - 2s 64us/step\n"
          ],
          "name": "stdout"
        }
      ]
    },
    {
      "metadata": {
        "id": "Q2AmMHTVdBAV",
        "colab_type": "code",
        "colab": {
          "base_uri": "https://localhost:8080/",
          "height": 34
        },
        "outputId": "1adff2c8-e562-4c3d-82e1-dbf6fcf66975"
      },
      "cell_type": "code",
      "source": [
        "print(resultados)"
      ],
      "execution_count": 24,
      "outputs": [
        {
          "output_type": "stream",
          "text": [
            "[0.32371595070838927, 0.87328]\n"
          ],
          "name": "stdout"
        }
      ]
    },
    {
      "metadata": {
        "id": "-rEgxQ1_dNk-",
        "colab_type": "code",
        "colab": {
          "base_uri": "https://localhost:8080/",
          "height": 34
        },
        "outputId": "581c6ab8-5ab8-42e0-c4c5-7f5a95481bed"
      },
      "cell_type": "code",
      "source": [
        "historia_dict = historia.history\n",
        "historia_dict.keys()"
      ],
      "execution_count": 26,
      "outputs": [
        {
          "output_type": "execute_result",
          "data": {
            "text/plain": [
              "dict_keys(['val_loss', 'val_acc', 'loss', 'acc'])"
            ]
          },
          "metadata": {
            "tags": []
          },
          "execution_count": 26
        }
      ]
    },
    {
      "metadata": {
        "id": "QWJ8a34-ddmo",
        "colab_type": "code",
        "colab": {
          "base_uri": "https://localhost:8080/",
          "height": 377
        },
        "outputId": "6842a749-7b1c-4bf2-cb49-0636c13a50f4"
      },
      "cell_type": "code",
      "source": [
        "precisao = historia_dict['acc']\n",
        "perda = historia_dict['loss']\n",
        "precisao_validada = historia_dict['val_acc']\n",
        "perda_validada = historia_dict['val_loss']\n",
        "\n",
        "epochs = range(1, len(precisao) + 1)\n",
        "\n",
        "plt.plot(epochs, perda, 'bo', label='Perda durante treinamento')\n",
        "plt.plot(epochs, perda_validada, 'b', label='Perda durante validação')\n",
        "\n",
        "plt.title('Perda durante treinamento e validação')\n",
        "plt.xlabel('Épocas')\n",
        "plt.ylabel('Perda')\n",
        "\n",
        "plt.show()"
      ],
      "execution_count": 28,
      "outputs": [
        {
          "output_type": "display_data",
          "data": {
            "image/png": "[encoded data removed]",
            "text/plain": [
              "<matplotlib.figure.Figure at 0x7f04c3bc8128>"
            ]
          },
          "metadata": {
            "tags": []
          }
        }
      ]
    },
    {
      "metadata": {
        "id": "1G10rBvrfBcV",
        "colab_type": "code",
        "colab": {
          "base_uri": "https://localhost:8080/",
          "height": 377
        },
        "outputId": "a0f50d90-31fd-43c8-ee39-61a54b9d47ea"
      },
      "cell_type": "code",
      "source": [
        "plt.clf()\n",
        "plt.plot(epochs, precisao, 'bo', label='Precisao durante treinamento')\n",
        "plt.plot(epochs, precisao_validada, 'b', label='Precisao durante validação')\n",
        "\n",
        "plt.title('Precisão durante treinamento e validação')\n",
        "plt.xlabel('Épocas')\n",
        "plt.ylabel('Precisão')\n",
        "\n",
        "plt.show()"
      ],
      "execution_count": 30,
      "outputs": [
        {
          "output_type": "display_data",
          "data": {
            "image/png": "[encoded data removed]",
            "text/plain": [
              "<matplotlib.figure.Figure at 0x7f04b2f94b70>"
            ]
          },
          "metadata": {
            "tags": []
          }
        }
      ]
    },
    {
      "metadata": {
        "id": "BVqHj__Ef36H",
        "colab_type": "code",
        "colab": {}
      },
      "cell_type": "code",
      "source": [
        "#@title MIT License\n",
        "#\n",
        "# Copyright (c) 2017 François Chollet\n",
        "#\n",
        "# Permission is hereby granted, free of charge, to any person obtaining a\n",
        "# copy of this software and associated documentation files (the \"Software\"),\n",
        "# to deal in the Software without restriction, including without limitation\n",
        "# the rights to use, copy, modify, merge, publish, distribute, sublicense,\n",
        "# and/or sell copies of the Software, and to permit persons to whom the\n",
        "# Software is furnished to do so, subject to the following conditions:\n",
        "#\n",
        "# The above copyright notice and this permission notice shall be included in\n",
        "# all copies or substantial portions of the Software.\n",
        "#\n",
        "# THE SOFTWARE IS PROVIDED \"AS IS\", WITHOUT WARRANTY OF ANY KIND, EXPRESS OR\n",
        "# IMPLIED, INCLUDING BUT NOT LIMITED TO THE WARRANTIES OF MERCHANTABILITY,\n",
        "# FITNESS FOR A PARTICULAR PURPOSE AND NONINFRINGEMENT. IN NO EVENT SHALL\n",
        "# THE AUTHORS OR COPYRIGHT HOLDERS BE LIABLE FOR ANY CLAIM, DAMAGES OR OTHER\n",
        "# LIABILITY, WHETHER IN AN ACTION OF CONTRACT, TORT OR OTHERWISE, ARISING\n",
        "# FROM, OUT OF OR IN CONNECTION WITH THE SOFTWARE OR THE USE OR OTHER\n",
        "# DEALINGS IN THE SOFTWARE."
      ],
      "execution_count": 0,
      "outputs": []
    }
  ]
}